{
 "cells": [
  {
   "cell_type": "markdown",
   "metadata": {},
   "source": [
    "## Debates to RDF\n",
    "\n",
    "This notebook is exploratory code updating the Akoma Ntoso (AKN) debates XML to reflect changes made to the ontology and then extracting metadata to RDF. \n",
    "\n",
    "For more information on the ontology, read the [Debates section of the wiki](https://github.com/Oireachtas/ontology/wiki/Debates)\n",
    "\n",
    "I am making the changes to [the AKN file](../debates/AK-dail-2015-11-12.xml)  in the debates folder, and saving the changes as a new file."
   ]
  },
  {
   "cell_type": "code",
   "execution_count": 1,
   "metadata": {
    "collapsed": false
   },
   "outputs": [],
   "source": [
    "import re\n",
    "import json\n",
    "from lxml import etree\n",
    "from rdflib import URIRef, Literal, Namespace, Graph\n",
    "from rdflib.namespace import RDF, OWL, SKOS, DCTERMS, XSD, RDFS, FOAF\n",
    "from dateutil.parser import parse\n",
    "from datetime import datetime"
   ]
  },
  {
   "cell_type": "code",
   "execution_count": 2,
   "metadata": {
    "collapsed": false,
    "scrolled": true
   },
   "outputs": [],
   "source": [
    "AKN = {\"akn\": \"http://docs.oasis-open.org/legaldocml/ns/akn/3.0/CSD13\"}\n",
    "xml = \"../debates/AK-dail-2015-11-12.xml\"\n",
    "baseURI = \"http://oireachtas.ie\""
   ]
  },
  {
   "cell_type": "markdown",
   "metadata": {},
   "source": [
    "### Metadata elements\n",
    "\n",
    "\n",
    "As the file contains data for the oral part of the debate (writtens are stored separately), the FRBRWork attributes need to be updated. See the [Metadata](https://github.com/Oireachtas/ontology/wiki/Debates#metadata) section of the wiki for the specification.\n",
    "\n",
    "Note that under the Akoma Ntoso naming convention, the \"@\" character in the FRBRExpression URI denote them as the original expression of the work. This is not strictly true in the case of revised Official Reports but we have no way of telling the difference at the moment, so the original expression of a debate is whatever this file turns out to be.\n",
    "\n",
    "The original FRBRExpression URIs have a language value of ``eng``, however, this should be ``mul`` because it is not (easily) possible to determine whether a debate is in English or Irish."
   ]
  },
  {
   "cell_type": "code",
   "execution_count": 35,
   "metadata": {
    "collapsed": false
   },
   "outputs": [
    {
     "name": "stdout",
     "output_type": "stream",
     "text": [
      "FRBRWork/FRBRthis\n",
      "Original: /akn/ie/debateRecord/dail/2015-11-12/main\n",
      "New: /akn/ie/debateRecord/dail/2015-11-12/debate/main \n",
      "---\n",
      "FRBRWork/FRBRuri\n",
      "Original: /akn/ie/debateRecord/dail/2015-11-12\n",
      "New: /akn/ie/debateRecord/dail/2015-11-12/debate \n",
      "---\n",
      "FRBRExpression/FRBRthis\n",
      "Original: /akn/ie/debateRecord/dail/2015-11-12/mul@/main\n",
      "New: /akn/ie/debateRecord/dail/2015-11-12/debate/mul@/main \n",
      "---\n",
      "FRBRExpression/FRBRuri\n",
      "Original: /akn/ie/debateRecord/dail/2015-11-12/mul@\n",
      "New: /akn/ie/debateRecord/dail/2015-11-12/debate/mul@ \n",
      "---\n",
      "FRBRManifestation/FRBRthis\n",
      "Original: /akn/ie/debateRecord/dail/2015-11-12/mul@/main.xml\n",
      "New: /akn/ie/debateRecord/dail/2015-11-12/debate/mul@/main.xml \n",
      "---\n",
      "FRBRManifestation/FRBRuri\n",
      "Original: /akn/ie/debateRecord/dail/2015-11-12/mul@.akn\n",
      "New: /akn/ie/debateRecord/dail/2015-11-12/debate/mul@.akn \n",
      "---\n"
     ]
    }
   ],
   "source": [
    "#last part of the regex included to prevent duplicate insertions\n",
    "regex = re.compile(\"\\d{4}-\\d{2}-\\d{2}(?!/debate|/writtens)\")\n",
    "\n",
    "root = etree.parse(xml).getroot()\n",
    "\n",
    "work = root.find(\".//{*}FRBRWork\")\n",
    "etree.SubElement(work, \"FRBRname\", {\"value\": \"debate\"})\n",
    "\n",
    "\n",
    "name = root.find(\".//{*}FRBRWork/{*}FRBRname\").attrib['value']\n",
    "for uri in root.xpath(\".//akn:identification/*//*[starts-with(@value, '/akn')]\", namespaces=AKN):\n",
    "    print(re.sub(\"{.+}\", \"\", uri.getparent().tag)+ \"/\" + re.sub(\"{.+}\", \"\", uri.tag) )\n",
    "    value = uri.attrib['value'].replace(\"eng@\", \"mul@\")\n",
    "    print(\"Original:\", value)\n",
    "    span = regex.search(value).span()\n",
    "    uri.attrib['value'] = value[:span[1]] + \"/\" + name + value[span[1]:]\n",
    "    print(\"New:\", uri.attrib['value'], \"\\n---\")"
   ]
  },
  {
   "cell_type": "markdown",
   "metadata": {},
   "source": [
    "Get the correct Dáil for Minister references."
   ]
  },
  {
   "cell_type": "code",
   "execution_count": 36,
   "metadata": {
    "collapsed": false
   },
   "outputs": [
    {
     "data": {
      "text/plain": [
       "'/dail/31'"
      ]
     },
     "execution_count": 36,
     "metadata": {},
     "output_type": "execute_result"
    }
   ],
   "source": [
    "date = parse(root.xpath(\".//akn:FRBRWork/akn:FRBRdate/@date\", namespaces=AKN)[0])\n",
    "\n",
    "with open (\"../data/dail.json\", \"r\") as f:\n",
    "    dail = json.load(f)\n",
    "for d in dail:\n",
    "    if parse(d['start']) <= date <= parse(d['end']):\n",
    "        house_uri = d['houseURI'].replace(\"/house\", \"\")\n",
    "house_uri   "
   ]
  },
  {
   "cell_type": "markdown",
   "metadata": {},
   "source": [
    "Add a heading to the Prelude debateSection - this heading is displayed on the web but is not in the original XML."
   ]
  },
  {
   "cell_type": "code",
   "execution_count": 37,
   "metadata": {
    "collapsed": false
   },
   "outputs": [],
   "source": [
    "heading = etree.SubElement(root.xpath(\".//akn:debateSection[@name='prelude']\", namespaces=AKN)[0], \"heading\")\n",
    "heading.text = \"Prelude\"\n",
    "\n",
    "# Correct generation and reported href errors\n",
    "for concept in root.xpath(\".//akn:TLCConcept[@eId='generation' or @eId='reported' or @eId='publication']\", namespaces=AKN):\n",
    "    concept.attrib['href'] = concept.attrib['href'].replace(\"oireachtas//\", \"oireachtas/\")"
   ]
  },
  {
   "cell_type": "markdown",
   "metadata": {},
   "source": [
    "### Unmatched Members\n",
    "Will need to audit unmatched member URIs. Thought I had fixed them already.\n"
   ]
  },
  {
   "cell_type": "code",
   "execution_count": 38,
   "metadata": {
    "collapsed": false
   },
   "outputs": [],
   "source": [
    "for person in root.xpath(\".//akn:meta/akn:references/akn:TLCPerson\", namespaces=AKN):\n",
    "    person.attrib['href'] = person.attrib['href'] + house_uri"
   ]
  },
  {
   "cell_type": "markdown",
   "metadata": {},
   "source": [
    "### TLCPerson references\n",
    "\n",
    "TLCPerson references are to the OIR:Member URI in the original AKN. However, using the specific org:Membership (of a Dáil or Seanad) would make it easier to link to other information needed in the website, like constituency and party, which otherwise would require a more expensive query within date ranges. The information associated with OIR:Member is only one step away. However, there may be a cost to this when it comes to searching for speeches by a Member over multiple houses. For that reason, it would be worthwhile testing this over a larger set of debate files."
   ]
  },
  {
   "cell_type": "code",
   "execution_count": 39,
   "metadata": {
    "collapsed": false
   },
   "outputs": [],
   "source": [
    "with open(\"../data/members.json\", \"r\") as f:\n",
    "    memberLU = {m['pId']: m['eId'] for m in json.load(f)}"
   ]
  },
  {
   "cell_type": "code",
   "execution_count": 40,
   "metadata": {
    "collapsed": false
   },
   "outputs": [
    {
     "name": "stdout",
     "output_type": "stream",
     "text": [
      "{'eId': 'MichaelKitt', 'href': '/ie/oireachtas/member/Michael-P-Kitt.D.1975-03-04/dail/31', 'showAs': 'Mr. Michael P. Kitt'}\n"
     ]
    }
   ],
   "source": [
    "def assert_URI_has_right_number_of_elements(uri, right_len):\n",
    "    uri_len = len(uri.split(\"/\"))\n",
    "    try:\n",
    "        assert uri_len == right_len\n",
    "    except AssertionError as e:\n",
    "        e.args += (\"URI: {0} Incorrect length. Should have {1} elements but it has {2}\".format(uri, right_len, uri_len),)\n",
    "        raise\n",
    "\n",
    "#Michael Kitt the latter has a pId of MichaelPKitt\n",
    "unmatched = root.xpath(\".//akn:TLCPerson[contains(@href, 'unmatched')]\", namespaces=AKN)\n",
    "for unm in unmatched:\n",
    "    unm.attrib['href'] = unm.attrib['href'].replace(\"/member/unmatchedMember\", memberLU['MichaelPKitt'])\n",
    "    unm.attrib['showAs'] = \"Mr. Michael P. Kitt\"\n",
    "    print(unm.attrib)\n",
    "    assert_URI_has_right_number_of_elements(unm.attrib['href'], 7)\n",
    "for person in root.xpath(\".//akn:TLCPerson\", namespaces=AKN):\n",
    "    assert_URI_has_right_number_of_elements(person.attrib['href'], 7)"
   ]
  },
  {
   "cell_type": "markdown",
   "metadata": {},
   "source": [
    "Fix TLC eId references starting with \"#\""
   ]
  },
  {
   "cell_type": "code",
   "execution_count": 41,
   "metadata": {
    "collapsed": false
   },
   "outputs": [],
   "source": [
    "for tlc in root.xpath(\".//akn:references/*[starts-with(@eId, '#')]\", namespaces=AKN):\n",
    "    tlc.attrib['eId'] = tlc.attrib['eId'][1:]"
   ]
  },
  {
   "cell_type": "markdown",
   "metadata": {},
   "source": [
    "### Speeches and questions\n",
    "\n",
    "Questions are addressed to a function of the relevant department rather than a Minister, should update accordingly."
   ]
  },
  {
   "cell_type": "code",
   "execution_count": 42,
   "metadata": {
    "collapsed": false
   },
   "outputs": [],
   "source": [
    "with open(\"../data/government_members.json\", \"r\") as f:\n",
    "    ministers = json.load(f)\n",
    "functions = {m['uri'].split(\"/\")[-1] for m in ministers}\n",
    "\n",
    "for m in ministers:\n",
    "    m['function'] = m['uri'].split(\"/\")[-1].split(\"__\")\n",
    "\n",
    "# Update records for end of Cabinet for 31st Dáil\n",
    "end_date = \"2016-05-06\"\n",
    "for m in ministers:\n",
    "    if m['end'] is None:\n",
    "        m['end'] = end_date\n",
    "        m['cabinets'][0]['end'] = end_date\n",
    "\n",
    "to_roles = set(root.xpath(\".//akn:question\", namespaces=AKN))\n",
    "for role in to_roles:\n",
    "    f = role.attrib['to'].split(\"for_\")[-1].lower()\n",
    "    #print(f)\n",
    "    for m in ministers:\n",
    "        if \"functions\" in m and f in m['functions'] and (parse(m['start']) <= date <= parse(m['end'])):\n",
    "            to_ref = m['office'].replace(\" \", \"_\")\n",
    "            role_eId = root.xpath(\".//akn:TLCRole[@eId='{}']/@eId\".format(to_ref), namespaces=AKN)\n",
    "            if len(role_eId) == 1:\n",
    "                role.attrib['to'] = \"#\"+role_eId[0]\n",
    "        \n",
    "\n"
   ]
  },
  {
   "cell_type": "markdown",
   "metadata": {},
   "source": [
    "### Deriving Member office titles from debates XML\n",
    "\n",
    "Accurate information about all office holders is not yet available in structured format. A workaround for this would be to find Members' office titles from the debates XML in the speaker/@as attribute. \n",
    "\n",
    "A Minister is only identified by title the first and last time he or she speaks in a particular debate. This information would be more usefully associated with every instance of that Minister speaking."
   ]
  },
  {
   "cell_type": "code",
   "execution_count": null,
   "metadata": {
    "collapsed": false
   },
   "outputs": [],
   "source": [
    "for role in root.xpath(\".//akn:TLCRole\", namespaces=AKN):\n",
    "    if not role.attrib['eId'] in [\"author\", \"editor\", \"Acting_Chairman\"]:\n",
    "        person = root.xpath(\".//akn:speech[@as='{}']/@by\".format(\"#\"+role.attrib['eId']), namespaces=AKN)\n",
    "        if len(person) > 0: \n",
    "            tlc_p = root.xpath(\".//akn:TLCPerson[@eId='{}']/@href\".format(person[0][1:]), \n",
    "                                namespaces=AKN)[0]\n",
    "            role.attrib['href'] = tlc_p+role.attrib['href'].replace(\"/ie/oireachtas\", \"\")\n",
    "\n",
    "debates_with_speeches = root.xpath(\".//akn:debateSection[.//akn:speech]\", namespaces=AKN)\n",
    "for debate in debates_with_speeches:\n",
    "    for speech in debate.xpath(\".//akn:speech[@as]\", namespaces=AKN):\n",
    "        other_speeches_as = debate.xpath(\".//akn:speech[@by='{}'][not(@as)]\".format(speech.attrib['by']), \n",
    "                                         namespaces=AKN)\n",
    "        for other_speech in other_speeches_as:\n",
    "            \n",
    "            other_speech.attrib['as'] = speech.attrib['as']\n",
    "            "
   ]
  },
  {
   "cell_type": "markdown",
   "metadata": {},
   "source": [
    "### Converting to RDF\n",
    "\n",
    "When converting to RDF, FRBR elements map to their RDA equivalents. I'm mapping only the FRBRuri elements for now. \n",
    "\n",
    "ToDo: Extend ontology to cover both contributors as those listed as TLCPerson as well as speakers as those identified in speech nodes."
   ]
  },
  {
   "cell_type": "code",
   "execution_count": 21,
   "metadata": {
    "collapsed": true
   },
   "outputs": [],
   "source": [
    "g = Graph()"
   ]
  },
  {
   "cell_type": "code",
   "execution_count": 22,
   "metadata": {
    "collapsed": false
   },
   "outputs": [],
   "source": [
    "OIR = Namespace(\"http://oireachtas.ie/ontology#\")\n",
    "RDA = Namespace(\"http://www.rdaregistry.info/Elements/c/#\")\n",
    "METALEX = Namespace(\"http://www.metalex.eu/metalex/2008-05-02#\")\n",
    "\n",
    "g.bind(\"oir\", OIR)"
   ]
  },
  {
   "cell_type": "code",
   "execution_count": 23,
   "metadata": {
    "collapsed": true
   },
   "outputs": [],
   "source": [
    "workURI = baseURI+root.xpath(\".//akn:FRBRWork/akn:FRBRuri/@value\", \n",
    "                                  namespaces=AKN)[0]\n",
    "work = URIRef(workURI)"
   ]
  },
  {
   "cell_type": "code",
   "execution_count": 24,
   "metadata": {
    "collapsed": false
   },
   "outputs": [],
   "source": [
    "# C10001 is RDA:Work\n",
    "g.add(( work, \n",
    "       RDF.type, \n",
    "       RDA.C10001))\n",
    "# C10006 is RDA:Expression\n",
    "g.add(( URIRef(baseURI+root.xpath(\".//akn:FRBRExpression/akn:FRBRuri/@value\", \n",
    "                                  namespaces=AKN)[0]), \n",
    "       RDF.type, \n",
    "       RDA.C10006))\n",
    "# C10007 is RDA:Manifestation\n",
    "g.add(( URIRef(baseURI+root.xpath(\".//akn:FRBRManifestation/akn:FRBRuri/@value\", \n",
    "                                  namespaces=AKN)[0]), \n",
    "       RDF.type, \n",
    "       RDA.C10007))\n",
    "g.add(( work, \n",
    "       RDF.type, \n",
    "       OIR.DebateRecord))"
   ]
  },
  {
   "cell_type": "markdown",
   "metadata": {},
   "source": [
    "### Debate sections\n",
    "\n",
    "The individual debates in OIR:Debate are contained in a sequence of OIR:DebateSection instances, which may in turn contain further OIR:DebateSection instances.\n",
    "\n",
    "Each DebateSection has a property ``OIR:debateSectionOf``, with its parent as object and an inverse property ``OIR:debateSection`` between parent and child DebateSection.\n",
    "\n",
    "The first DebateSection in a sequence is denoted with the property ``OIR:firstDebateSectionOf`` of its parent instance(either type ``OIR:Debate`` or ``OIR:DebateSection``). They also have an inverse property, ``OIR:firstDebateSection``. \n",
    "\n",
    "Each DebateSection except the last has the property ``OIR:nextDebateSection``, taking as its object the succeeding DebateSection. \n",
    "\n",
    "Each DebateSection after the first has a property ``OIR:nextDebateSectionOf`` taking as its object the preceeding OIR:DebateSection."
   ]
  },
  {
   "cell_type": "code",
   "execution_count": 25,
   "metadata": {
    "collapsed": false
   },
   "outputs": [],
   "source": [
    "#g = Graph()\n",
    "def seq_dbs_uri(dbsects, i, dbs_uri, rel):\n",
    "    other_dbs_uri = workURI+\"/\"+dbsects[i].attrib['eId']\n",
    "    relation = \"nextDebateSection\"+rel\n",
    "    g.add(( URIRef(dbs_uri), OIR[relation], URIRef(other_dbs_uri) ))\n",
    "\n",
    "def child_dbs_uri(parent_uri, dbs_uri, relation):\n",
    "    g.add(( URIRef(parent_uri), OIR[relation], URIRef(dbs_uri)))\n",
    "    g.add(( URIRef(dbs_uri), OIR[relation+\"Of\"], URIRef(parent_uri)))\n",
    "\n",
    "def debate_type(dbs):\n",
    "    g.add(( URIRef(dbs_uri), RDF.type, OIR.DebateSection ))\n",
    "    name = dbs.attrib['name']\n",
    "    name = name.title()+\"Debate\" if name != \"debate\" else name.title()\n",
    "    g.add(( URIRef(dbs_uri), OIR.debateType, OIR[name]))\n",
    "    \n",
    "dbsects = root.xpath(\".//akn:debateBody/akn:debateSection\", namespaces=AKN)\n",
    "\n",
    "for i, dbs in enumerate(dbsects):    \n",
    "    dbs_uri = workURI+\"/\"+dbs.attrib['eId']\n",
    "    debate_type(dbs)\n",
    "    child_dbs_uri(workURI, dbs_uri, \"debateSection\" )\n",
    "    if i == 0:\n",
    "        child_dbs_uri(workURI, dbs_uri, \"firstDebateSection\" )\n",
    "    else:\n",
    "        seq_dbs_uri(dbsects, i-1, dbs_uri, \"Of\")\n",
    "    if i != len(dbsects)-1:\n",
    "        seq_dbs_uri(dbsects, i+1, dbs_uri, \"\")\n",
    "    subdbsects = dbs.xpath(\"./akn:debateSection[./akn:heading]\", namespaces=AKN)\n",
    "    for n, subdbs in enumerate(subdbsects):\n",
    "        subdbs_uri = workURI+\"/\"+subdbs.attrib['eId']\n",
    "        debate_type(subdbs)\n",
    "        child_dbs_uri(dbs_uri, dbs_uri, \"debateSection\" )\n",
    "        if n == 0:\n",
    "            child_dbs_uri(dbs_uri, subdbs_uri, \"firstDebateSection\")\n",
    "        else:\n",
    "            seq_dbs_uri(subdbsects, n-1, subdbs_uri, \"Of\")\n",
    "        if n != len(subdbsects)-1:\n",
    "            seq_dbs_uri(subdbsects, n+1, subdbs_uri, \"\")"
   ]
  },
  {
   "cell_type": "markdown",
   "metadata": {},
   "source": [
    "Leaders Questions has name attribute \"questions\" when it's really just a debate. The ``questions`` attribute should only refer to numbered/formal questions (this has implications for early years when questions weren't numbered.) It may not matter so much though when written answers are broken out."
   ]
  },
  {
   "cell_type": "code",
   "execution_count": 26,
   "metadata": {
    "collapsed": false
   },
   "outputs": [
    {
     "name": "stdout",
     "output_type": "stream",
     "text": [
      "198\n"
     ]
    }
   ],
   "source": [
    "#g = Graph()\n",
    "def match_tlc_uri(ref, tlc):\n",
    "    tlc_uri = root.xpath(\".//akn:{0}[@eId='{1}']\".format(tlc, ref[1:]), namespaces=AKN)\n",
    "    try:\n",
    "        assert len(tlc_uri) == 1\n",
    "    except AssertionError as e:\n",
    "        e.args += ( \"{0} returned {1} TLCPerson matches, should be 1\".format(ref, \n",
    "                                                                             len(by_uri)),\n",
    "                   )\n",
    "        raise\n",
    "    return baseURI + tlc_uri[0].attrib['href']\n",
    "\n",
    "def seq_uri(parent, i, this_uri, rel):\n",
    "    other_uri = workURI+\"/\"+parent[i].attrib['eId']\n",
    "    g.add(( URIRef(this_uri), OIR[rel], URIRef(other_uri) ))\n",
    "    \n",
    "def child_uri(parent_uri, child_uri, relation):\n",
    "    g.add(( URIRef(parent_uri), OIR[relation], URIRef(child_uri)))\n",
    "    g.add(( URIRef(child_uri), OIR[relation+\"Of\"], URIRef(parent_uri)))\n",
    "\n",
    "def keep_sequence(workURI, parent_list, this_uri, i, rel):\n",
    "    if i == 0:\n",
    "        child_uri(workURI, this_uri, \"first{}\".format(rel) )\n",
    "    else:\n",
    "        seq_uri(parent_list, i-1, pq_uri, \"next{}Of\".format(rel))\n",
    "    if i != len(parent_list)-1:\n",
    "        seq_uri(parent_list, i+1, pq_uri, \"next{}\".format(rel))\n",
    "    \n",
    "questions = root.xpath(\".//akn:question\", namespaces=AKN)\n",
    "for i, pq in enumerate(questions):\n",
    "    order = int(pq.attrib['eId'].split(\"_\")[-1])\n",
    "    pq_uri = workURI+\"/\"+pq.attrib['eId']\n",
    "    dbs_uri = workURI+\"/\"+pq.getparent().attrib['eId']\n",
    "    by_uri = match_tlc_uri(pq.attrib['by'], \"TLCPerson\")\n",
    "    to_uri = match_tlc_uri(pq.attrib['to'], \"TLCRole\")\n",
    "    g.add(( URIRef(pq_uri), RDF.type, OIR.Question))\n",
    "    g.add(( URIRef(pq_uri), OIR.by, URIRef(by_uri)))\n",
    "    g.add(( URIRef(pq_uri), OIR.to, URIRef(to_uri)))\n",
    "    g.add(( URIRef(pq_uri), OIR.questionNo, Literal(order, datatype=XSD.integer)))\n",
    "    keep_sequence(workURI, questions, pq_uri, i, \"Question\")\n",
    "    child_uri(dbs_uri, pq_uri, \"part\")\n",
    "    \n",
    "answers = root.xpath(\".//akn:answer\", namespaces=AKN) # not in current sample file\n",
    "print(len(g))"
   ]
  },
  {
   "cell_type": "code",
   "execution_count": 27,
   "metadata": {
    "collapsed": false
   },
   "outputs": [
    {
     "name": "stdout",
     "output_type": "stream",
     "text": [
      "1969\n"
     ]
    }
   ],
   "source": [
    "#g = Graph()\n",
    "debate_speeches = root.xpath(\".//akn:debateSection[./akn:speech or ./akn:answer]\", namespaces=AKN)\n",
    "for debate in debate_speeches:\n",
    "    \n",
    "    speeches = debate.xpath(\"./akn:speech|./akn:answer\", namespaces=AKN)\n",
    "    for i, spk in enumerate(speeches):\n",
    "        \n",
    "        spk_uri = workURI + \"/\" + spk.attrib['eId']\n",
    "        dbs_uri = workURI + \"/\" + spk.getparent().attrib['eId']\n",
    "        if len(spk.attrib['by']) > 1:\n",
    "            by_uri = match_tlc_uri(spk.attrib['by'], \"TLCPerson\")\n",
    "            g.add(( URIRef(spk_uri), OIR.by, URIRef(by_uri)))\n",
    "    \n",
    "        if \"as\" in spk.attrib:\n",
    "            as_uri = match_tlc_uri(spk.attrib['as'], \n",
    "                                    \"TLCRole\")\n",
    "            \n",
    "            g.add(( URIRef(spk_uri), OIR['as'], URIRef(as_uri)))\n",
    "        keep_sequence(dbs_uri, speeches, spk_uri, i, \"Speech\")\n",
    "        child_uri(dbs_uri, pq_uri, \"part\")\n",
    "print(len(g))"
   ]
  },
  {
   "cell_type": "markdown",
   "metadata": {
    "collapsed": false
   },
   "source": [
    "### Bills and amendments\n"
   ]
  },
  {
   "cell_type": "code",
   "execution_count": 28,
   "metadata": {
    "collapsed": false
   },
   "outputs": [],
   "source": [
    "for dbs in root.xpath(\".//akn:debateSection[@refersTo]\", namespaces=AKN):\n",
    "    bill_uri = baseURI + root.xpath(\".//akn:TLCEvent[@eId='{}']/@href\".format(dbs.attrib['refersTo'][1:]), namespaces=AKN)[0]\n",
    "    dbs_uri = workURI+\"/\"+dbs.attrib[\"eId\"]\n",
    "    g.add(( URIRef(bill_uri), OIR.debate, URIRef(dbs_uri) ))\n",
    "    g.add(( URIRef(dbs_uri), OIR.debateOf, URIRef(bill_uri) ))"
   ]
  },
  {
   "cell_type": "markdown",
   "metadata": {},
   "source": [
    "** TODO: update TLCEvent for missing amendments. **\n",
    "\n",
    "** TODO: differentiate sections (sec) and recommendations (rec) from amendments **"
   ]
  },
  {
   "cell_type": "code",
   "execution_count": 29,
   "metadata": {
    "collapsed": false
   },
   "outputs": [
    {
     "data": {
      "text/plain": [
       "2215"
      ]
     },
     "execution_count": 29,
     "metadata": {},
     "output_type": "execute_result"
    }
   ],
   "source": [
    "#g = Graph()\n",
    "missed_amd = []\n",
    "\n",
    "for amd in root.xpath(\".//akn:entity[@name='amendment']\", namespaces=AKN):\n",
    "    amd_tlc = root.xpath(\".//akn:TLCEvent[@eId='{}']\".format(amd.attrib[\"refersTo\"][1:]), namespaces=AKN)\n",
    "    if len(amd_tlc) == 0: \n",
    "        missed_amd.append(amd.attrib['refersTo'][1:])\n",
    "    amd_uri = amd.attrib['refersTo'][1:].replace(\".\", \"/\")\n",
    "    amd_len = len(amd_uri.split(\"/\"))\n",
    "    deb_uri = workURI + \"/\" + amd.getparent().attrib[\"eId\"]\n",
    "    g.add(( URIRef(amd_uri), OIR.eventDebate, URIRef(deb_uri)))\n",
    "    g.add(( URIRef(deb_uri), OIR.eventDebateOf, URIRef(amd_uri)))\n",
    "    if amd_len == 6:\n",
    "        amd_components = amd_uri.split(\"/amd_\")\n",
    "        g.add(( URIRef(amd_uri), RDF.type, OIR.BillAmendment))\n",
    "        g.add(( URIRef(amd_uri), OIR.amendmentStage, URIRef(amd_components[0])))\n",
    "        g.add(( URIRef(amd_components[0]), OIR.amendmentStageOf, URIRef(amd_uri)))\n",
    "        g.add(( URIRef(amd_uri), OIR.amendmentNo, Literal(amd_components[1], datatype=XSD.string)))\n",
    "        g.add(( URIRef(amd_uri), OIR.eventDebate, URIRef(deb_uri)))\n",
    "    else:\n",
    "        amd_components = amd_uri.split(\"/\")\n",
    "        outcome = amd_components[-1].title()\n",
    "        affected_amd_uri = \"/\".join(amd_components[:-1])\n",
    "        g.add(( URIRef(amd_uri), RDF.type, OIR.BillEventOutcome ))\n",
    "        #g.add(( URIRef(amd_uri), OIR.outcomeOf, URIRef(affect_amd_uri) ))\n",
    "        g.add(( URIRef(affected_amd_uri), METALEX.result, URIRef(amd_uri) ))\n",
    "        \n",
    "\n",
    "    \n",
    "missed_amd = set(missed_amd)\n",
    "len(g)"
   ]
  },
  {
   "cell_type": "markdown",
   "metadata": {
    "collapsed": false
   },
   "source": [
    "### Votes\n",
    "\n",
    "Members who are participants are linked to specific speech of voting instances by the object categories of OIR:speakerOf, OIR:voterOf or OIR:attendeeOf. A voter will also be one of OIR:taVoter, OIR:nilVoter or OIR:staonVoter\n",
    "\n",
    "** TODO: Describe vote_matter in terms of whether it's a Bill element or a debate element **\n",
    "\n",
    "** TODO: Decide whether to update voter href to debateSection rather than summary **"
   ]
  },
  {
   "cell_type": "code",
   "execution_count": 30,
   "metadata": {
    "collapsed": false
   },
   "outputs": [
    {
     "data": {
      "text/plain": [
       "5677"
      ]
     },
     "execution_count": 30,
     "metadata": {},
     "output_type": "execute_result"
    }
   ],
   "source": [
    "#g = Graph()\n",
    "\n",
    "for vote in root.xpath(\".//akn:voting\", namespaces=AKN):\n",
    "    vote_uri = workURI + \"/\" + vote.attrib['eId']\n",
    "    vote_dbs = root.xpath(\".//akn:debateSection[akn:summary/@eId='{}']\".format(vote.attrib['href'][1:]), namespaces=AKN)[0]\n",
    "    vote_ref = workURI + \"/\" + vote_dbs.attrib['eId']\n",
    "    #print(vote_ref)\n",
    "    if vote.attrib['refersTo'].startswith(\"#bill\"):\n",
    "        vote_matter = baseURI + \"/\" + vote.attrib['refersTo'][1:].replace(\".\", \"/\")\n",
    "    else:\n",
    "        vote_matter = workURI + vote.attrib['refersTo'][1:]\n",
    "    g.add(( URIRef(vote_uri), OIR.divisionOf, URIRef(vote_matter) ))\n",
    "    g.add(( URIRef(vote_matter), OIR.division, URIRef(vote_uri) ))\n",
    "    g.add(( URIRef(vote_uri), OIR.debate, URIRef(vote_ref) ))\n",
    "    g.add(( URIRef(vote_ref), OIR.debateOf, URIRef(vote_uri) ))\n",
    "    for count in vote.xpath(\"./akn:count\", namespaces=AKN):\n",
    "        v_type_uri = baseURI + root.xpath(\".//akn:TLCConcept[@eId='{}']/@href\".format(count.attrib['refersTo'][1:]), \n",
    "                        namespaces=AKN)[0]\n",
    "        count_uri = workURI + \"/\" + count.attrib['eId']\n",
    "        g.add(( URIRef(count_uri), RDF.type, URIRef(v_type_uri) ))\n",
    "        count_dbs = vote_dbs.xpath(\"./akn:debateSection[@name='{}']\".format(count.attrib['refersTo'][1:]), \n",
    "                            namespaces=AKN)[0]\n",
    "        for person in count_dbs.xpath(\".//akn:person/@refersTo\", namespaces=AKN):\n",
    "            voter_uri = baseURI + root.xpath(\".//akn:TLCPerson[@eId='{}']/@href\".format(person[1:]),\n",
    "                                  namespaces=AKN)[0]\n",
    "            g.add(( URIRef(count_uri), OIR.voter, URIRef(voter_uri) ))\n",
    "            g.add(( URIRef(voter_uri), OIR.voterOf, URIRef(count_uri) ))\n",
    "len(g)"
   ]
  },
  {
   "cell_type": "code",
   "execution_count": 46,
   "metadata": {
    "collapsed": true
   },
   "outputs": [],
   "source": [
    "with open(\"../debates/AK-dail-2015-11-12-v2.xml\", \"wb\") as f: \n",
    "    f.write(etree.tostring(root, xml_declaration=True, encoding=\"utf-8\"))"
   ]
  },
  {
   "cell_type": "code",
   "execution_count": 32,
   "metadata": {
    "collapsed": false
   },
   "outputs": [
    {
     "name": "stdout",
     "output_type": "stream",
     "text": [
      "2016-08-05\n"
     ]
    }
   ],
   "source": [
    "today = datetime.today().date()\n",
    "print(today)\n",
    "g.serialize(\"../data/debates_{}_{}.ttl\".format(house_uri[1:].replace(\"/\", \"_\"), date.date()), format=\"turtle\")"
   ]
  },
  {
   "cell_type": "code",
   "execution_count": null,
   "metadata": {
    "collapsed": true
   },
   "outputs": [],
   "source": []
  }
 ],
 "metadata": {
  "kernelspec": {
   "display_name": "Python 3",
   "language": "python",
   "name": "python3"
  },
  "language_info": {
   "codemirror_mode": {
    "name": "ipython",
    "version": 3
   },
   "file_extension": ".py",
   "mimetype": "text/x-python",
   "name": "python",
   "nbconvert_exporter": "python",
   "pygments_lexer": "ipython3",
   "version": "3.5.1+"
  }
 },
 "nbformat": 4,
 "nbformat_minor": 0
}
