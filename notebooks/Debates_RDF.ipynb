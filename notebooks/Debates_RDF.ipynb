{
 "cells": [
  {
   "cell_type": "markdown",
   "metadata": {},
   "source": [
    "## Debates to RDF\n",
    "\n",
    "This notebook is draft code updating the Akoma Ntoso (AKN) debates XML to reflect changes made to the ontology and then extracting metadata to RDF. \n",
    "\n",
    "For more information on the ontology, read the [Debates section of the wiki](https://github.com/Oireachtas/ontology/wiki/Debates)\n",
    "\n",
    "I am making the changes to [the AKN file](../debates/AK-dail-2015-11-12.xml)  in the debates folder, and saving the changes as a new file."
   ]
  },
  {
   "cell_type": "code",
   "execution_count": 1,
   "metadata": {
    "collapsed": false
   },
   "outputs": [],
   "source": [
    "import re\n",
    "from lxml import etree\n",
    "from rdflib import URIRef, Literal, Namespace, Graph\n",
    "from rdflib.namespace import RDF, OWL, SKOS, DCTERMS, XSD, RDFS, FOAF"
   ]
  },
  {
   "cell_type": "code",
   "execution_count": 2,
   "metadata": {
    "collapsed": false,
    "scrolled": true
   },
   "outputs": [],
   "source": [
    "AKN = {\"akn\": \"http://docs.oasis-open.org/legaldocml/ns/akn/3.0/CSD13\"}\n",
    "xml = \"../debates/AK-dail-2015-11-12.xml\"\n",
    "baseURI = \"http://oireachtas.ie\""
   ]
  },
  {
   "cell_type": "markdown",
   "metadata": {},
   "source": [
    "### Metadata elements\n",
    "\n",
    "\n",
    "As the file contains data for the oral part of the debate (writtens are stored separately), the FRBRWork attributes need to be updated. See the [Metadata](https://github.com/Oireachtas/ontology/wiki/Debates#metadata) section of the wiki for the specification.\n",
    "\n",
    "Note that under the Akoma Ntoso naming convention, the \"@\" character in the FRBRExpression URI denote them as the original expression of the work. This is not strictly true in the case of revised Official Reports but we have no way of telling the difference at the moment, so the original expression of a debate is whatever this file turns out to be.\n",
    "\n",
    "The original FRBRExpression URIs have a language value of ``eng``, however, this should be ``mul`` because it is not (easily) possible to determine whether a debate is in English or Irish."
   ]
  },
  {
   "cell_type": "code",
   "execution_count": 3,
   "metadata": {
    "collapsed": false
   },
   "outputs": [
    {
     "name": "stdout",
     "output_type": "stream",
     "text": [
      "FRBRWork/FRBRthis\n",
      "Original: /akn/ie/debateRecord/dail/2015-11-12/main\n",
      "New: /akn/ie/debateRecord/dail/2015-11-12/debate/main \n",
      "---\n",
      "FRBRWork/FRBRuri\n",
      "Original: /akn/ie/debateRecord/dail/2015-11-12\n",
      "New: /akn/ie/debateRecord/dail/2015-11-12/debate \n",
      "---\n",
      "FRBRExpression/FRBRthis\n",
      "Original: /akn/ie/debateRecord/dail/2015-11-12/mul@/main\n",
      "New: /akn/ie/debateRecord/dail/2015-11-12/debate/mul@/main \n",
      "---\n",
      "FRBRExpression/FRBRuri\n",
      "Original: /akn/ie/debateRecord/dail/2015-11-12/mul@\n",
      "New: /akn/ie/debateRecord/dail/2015-11-12/debate/mul@ \n",
      "---\n",
      "FRBRManifestation/FRBRthis\n",
      "Original: /akn/ie/debateRecord/dail/2015-11-12/mul@/main.xml\n",
      "New: /akn/ie/debateRecord/dail/2015-11-12/debate/mul@/main.xml \n",
      "---\n",
      "FRBRManifestation/FRBRuri\n",
      "Original: /akn/ie/debateRecord/dail/2015-11-12/mul@.akn\n",
      "New: /akn/ie/debateRecord/dail/2015-11-12/debate/mul@.akn \n",
      "---\n"
     ]
    }
   ],
   "source": [
    "regex = re.compile(\"\\d{4}-\\d{2}-\\d{2}(?!/debate|/writtens)\")\n",
    "\n",
    "root = etree.parse(xml).getroot()\n",
    "\n",
    "work = root.find(\".//{*}FRBRWork\")\n",
    "etree.SubElement(work, \"FRBRname\", {\"value\": \"debate\"})\n",
    "\n",
    "\n",
    "name = root.find(\".//{*}FRBRWork/{*}FRBRname\").attrib['value']\n",
    "for uri in root.xpath(\".//akn:identification/*//*[starts-with(@value, '/akn')]\", namespaces=AKN):\n",
    "    print(re.sub(\"{.+}\", \"\", uri.getparent().tag)+ \"/\" + re.sub(\"{.+}\", \"\", uri.tag) )\n",
    "    value = uri.attrib['value'].replace(\"eng@\", \"mul@\")\n",
    "    print(\"Original:\", value)\n",
    "    span = regex.search(value).span()\n",
    "    uri.attrib['value'] = value[:span[1]] + \"/\" + name + value[span[1]:]\n",
    "    print(\"New:\", uri.attrib['value'], \"\\n---\")"
   ]
  },
  {
   "cell_type": "markdown",
   "metadata": {},
   "source": [
    "### TLCPerson references\n",
    "\n",
    "TLCPerson references are to the OIR:Member URI in the original AKN. However, using the specific org:Membership (of a Dáil or Seanad) would make it easier to link to other information needed in the website, like constituency and party, which otherwise would require a more expensive query within date ranges. The information associated with OIR:Member is only one step away. However, there may be a cost to this when it comes to searching for speeches by a Member over multiple houses. For that reason, it would be worthwhile testing this over a larger set of debate files."
   ]
  },
  {
   "cell_type": "code",
   "execution_count": 4,
   "metadata": {
    "collapsed": false
   },
   "outputs": [],
   "source": [
    "for person in root.xpath(\".//akn:meta/akn:references/akn:TLCPerson\", namespaces=AKN):\n",
    "    person.attrib['href'] = person.attrib['href'] + \"/dail/31\""
   ]
  },
  {
   "cell_type": "markdown",
   "metadata": {},
   "source": [
    "### Converting to RDF\n",
    "\n",
    "When converting to RDF, FRBR elements map to their RDA equivalents. I'm mapping only the FRBRuri elements for now. \n",
    "\n",
    "ToDo: Extend ontology to cover both contributors as those listed as TLCPerson as well as speakers as those identified in speech nodes."
   ]
  },
  {
   "cell_type": "code",
   "execution_count": 5,
   "metadata": {
    "collapsed": true
   },
   "outputs": [],
   "source": [
    "g = Graph()"
   ]
  },
  {
   "cell_type": "code",
   "execution_count": 6,
   "metadata": {
    "collapsed": false
   },
   "outputs": [],
   "source": [
    "OIR = Namespace(\"http://oireachtas.ie/ontology#\")\n",
    "RDA = Namespace(\"http://www.rdaregistry.info/Elements/c/#\")"
   ]
  },
  {
   "cell_type": "code",
   "execution_count": 7,
   "metadata": {
    "collapsed": false
   },
   "outputs": [],
   "source": [
    "# C10001 is RDA:Work\n",
    "g.add(( URIRef(baseURI+root.xpath(\".//akn:FRBRWork/akn:FRBRuri/@value\", \n",
    "                                  namespaces=AKN)[0]), \n",
    "       RDF.type, \n",
    "       RDA.C10001))\n",
    "# C10006 is RDA:Expression\n",
    "g.add(( URIRef(baseURI+root.xpath(\".//akn:FRBRExpression/akn:FRBRuri/@value\", \n",
    "                                  namespaces=AKN)[0]), \n",
    "       RDF.type, \n",
    "       RDA.C10006))\n",
    "# C10007 is RDA:Manifestation\n",
    "g.add(( URIRef(baseURI+root.xpath(\".//akn:FRBRManifestation/akn:FRBRuri/@value\", \n",
    "                                  namespaces=AKN)[0]), \n",
    "       RDF.type, \n",
    "       RDA.C10007))"
   ]
  },
  {
   "cell_type": "code",
   "execution_count": 8,
   "metadata": {
    "collapsed": false
   },
   "outputs": [
    {
     "name": "stdout",
     "output_type": "stream",
     "text": [
      "http://oireachtas.ie/akn/ie/debateRecord/dail/2015-11-12/debate/mul@.akn http://www.w3.org/1999/02/22-rdf-syntax-ns#type http://www.rdaregistry.info/Elements/c/#C10007\n",
      "http://oireachtas.ie/akn/ie/debateRecord/dail/2015-11-12/debate http://www.w3.org/1999/02/22-rdf-syntax-ns#type http://www.rdaregistry.info/Elements/c/#C10001\n",
      "http://oireachtas.ie/akn/ie/debateRecord/dail/2015-11-12/debate/mul@ http://www.w3.org/1999/02/22-rdf-syntax-ns#type http://www.rdaregistry.info/Elements/c/#C10006\n"
     ]
    }
   ],
   "source": [
    "for r, d, a in g:\n",
    "    print(r, d, a)"
   ]
  },
  {
   "cell_type": "code",
   "execution_count": null,
   "metadata": {
    "collapsed": true
   },
   "outputs": [],
   "source": []
  }
 ],
 "metadata": {
  "kernelspec": {
   "display_name": "Python 3",
   "language": "python",
   "name": "python3"
  },
  "language_info": {
   "codemirror_mode": {
    "name": "ipython",
    "version": 3
   },
   "file_extension": ".py",
   "mimetype": "text/x-python",
   "name": "python",
   "nbconvert_exporter": "python",
   "pygments_lexer": "ipython3",
   "version": "3.5.1+"
  }
 },
 "nbformat": 4,
 "nbformat_minor": 0
}
