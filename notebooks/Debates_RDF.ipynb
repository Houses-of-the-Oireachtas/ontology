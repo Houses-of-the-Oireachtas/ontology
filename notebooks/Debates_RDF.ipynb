{
 "cells": [
  {
   "cell_type": "markdown",
   "metadata": {},
   "source": [
    "## Debates to RDF\n",
    "\n",
    "This notebook is exploratory code updating the Akoma Ntoso (AKN) debates XML to reflect changes made to the ontology and then extracting metadata to RDF. \n",
    "\n",
    "For more information on the ontology, read the [Debates section of the wiki](https://github.com/Oireachtas/ontology/wiki/Debates)\n",
    "\n",
    "I am making the changes to [the AKN file](../debates/AK-dail-2015-11-12.xml)  in the debates folder, and saving the changes as a new file."
   ]
  },
  {
   "cell_type": "code",
   "execution_count": 3,
   "metadata": {
    "collapsed": false
   },
   "outputs": [],
   "source": [
    "import re\n",
    "import json\n",
    "from lxml import etree\n",
    "from rdflib import URIRef, Literal, Namespace, Graph\n",
    "from rdflib.namespace import RDF, OWL, SKOS, DCTERMS, XSD, RDFS, FOAF"
   ]
  },
  {
   "cell_type": "code",
   "execution_count": 2,
   "metadata": {
    "collapsed": false,
    "scrolled": true
   },
   "outputs": [],
   "source": [
    "AKN = {\"akn\": \"http://docs.oasis-open.org/legaldocml/ns/akn/3.0/CSD13\"}\n",
    "xml = \"../debates/AK-dail-2015-11-12.xml\"\n",
    "baseURI = \"http://oireachtas.ie\""
   ]
  },
  {
   "cell_type": "markdown",
   "metadata": {},
   "source": [
    "### Metadata elements\n",
    "\n",
    "\n",
    "As the file contains data for the oral part of the debate (writtens are stored separately), the FRBRWork attributes need to be updated. See the [Metadata](https://github.com/Oireachtas/ontology/wiki/Debates#metadata) section of the wiki for the specification.\n",
    "\n",
    "Note that under the Akoma Ntoso naming convention, the \"@\" character in the FRBRExpression URI denote them as the original expression of the work. This is not strictly true in the case of revised Official Reports but we have no way of telling the difference at the moment, so the original expression of a debate is whatever this file turns out to be.\n",
    "\n",
    "The original FRBRExpression URIs have a language value of ``eng``, however, this should be ``mul`` because it is not (easily) possible to determine whether a debate is in English or Irish."
   ]
  },
  {
   "cell_type": "code",
   "execution_count": 71,
   "metadata": {
    "collapsed": false
   },
   "outputs": [
    {
     "name": "stdout",
     "output_type": "stream",
     "text": [
      "FRBRWork/FRBRthis\n",
      "Original: /akn/ie/debateRecord/dail/2015-11-12/main\n",
      "New: /akn/ie/debateRecord/dail/2015-11-12/debate/main \n",
      "---\n",
      "FRBRWork/FRBRuri\n",
      "Original: /akn/ie/debateRecord/dail/2015-11-12\n",
      "New: /akn/ie/debateRecord/dail/2015-11-12/debate \n",
      "---\n",
      "FRBRExpression/FRBRthis\n",
      "Original: /akn/ie/debateRecord/dail/2015-11-12/mul@/main\n",
      "New: /akn/ie/debateRecord/dail/2015-11-12/debate/mul@/main \n",
      "---\n",
      "FRBRExpression/FRBRuri\n",
      "Original: /akn/ie/debateRecord/dail/2015-11-12/mul@\n",
      "New: /akn/ie/debateRecord/dail/2015-11-12/debate/mul@ \n",
      "---\n",
      "FRBRManifestation/FRBRthis\n",
      "Original: /akn/ie/debateRecord/dail/2015-11-12/mul@/main.xml\n",
      "New: /akn/ie/debateRecord/dail/2015-11-12/debate/mul@/main.xml \n",
      "---\n",
      "FRBRManifestation/FRBRuri\n",
      "Original: /akn/ie/debateRecord/dail/2015-11-12/mul@.akn\n",
      "New: /akn/ie/debateRecord/dail/2015-11-12/debate/mul@.akn \n",
      "---\n"
     ]
    }
   ],
   "source": [
    "#last part of the regex included to prevent duplicate insertions\n",
    "regex = re.compile(\"\\d{4}-\\d{2}-\\d{2}(?!/debate|/writtens)\")\n",
    "\n",
    "root = etree.parse(xml).getroot()\n",
    "\n",
    "work = root.find(\".//{*}FRBRWork\")\n",
    "etree.SubElement(work, \"FRBRname\", {\"value\": \"debate\"})\n",
    "\n",
    "\n",
    "name = root.find(\".//{*}FRBRWork/{*}FRBRname\").attrib['value']\n",
    "for uri in root.xpath(\".//akn:identification/*//*[starts-with(@value, '/akn')]\", namespaces=AKN):\n",
    "    print(re.sub(\"{.+}\", \"\", uri.getparent().tag)+ \"/\" + re.sub(\"{.+}\", \"\", uri.tag) )\n",
    "    value = uri.attrib['value'].replace(\"eng@\", \"mul@\")\n",
    "    print(\"Original:\", value)\n",
    "    span = regex.search(value).span()\n",
    "    uri.attrib['value'] = value[:span[1]] + \"/\" + name + value[span[1]:]\n",
    "    print(\"New:\", uri.attrib['value'], \"\\n---\")"
   ]
  },
  {
   "cell_type": "markdown",
   "metadata": {},
   "source": [
    "Add a heading to the Prelude debateSection - this heading is displayed on the web but is not in the original XML."
   ]
  },
  {
   "cell_type": "code",
   "execution_count": 40,
   "metadata": {
    "collapsed": false
   },
   "outputs": [],
   "source": [
    "heading = etree.SubElement(root.xpath(\".//akn:debateSection[@name='prelude']\", namespaces=AKN)[0], \"heading\")\n",
    "heading.text = \"Prelude\""
   ]
  },
  {
   "cell_type": "markdown",
   "metadata": {},
   "source": [
    "### TLCPerson references\n",
    "\n",
    "TLCPerson references are to the OIR:Member URI in the original AKN. However, using the specific org:Membership (of a Dáil or Seanad) would make it easier to link to other information needed in the website, like constituency and party, which otherwise would require a more expensive query within date ranges. The information associated with OIR:Member is only one step away. However, there may be a cost to this when it comes to searching for speeches by a Member over multiple houses. For that reason, it would be worthwhile testing this over a larger set of debate files."
   ]
  },
  {
   "cell_type": "code",
   "execution_count": 80,
   "metadata": {
    "collapsed": false
   },
   "outputs": [],
   "source": [
    "for person in root.xpath(\".//akn:meta/akn:references/akn:TLCPerson\", namespaces=AKN):\n",
    "    person.attrib['href'] = person.attrib['href'] + \"/dail/31\""
   ]
  },
  {
   "cell_type": "markdown",
   "metadata": {},
   "source": [
    "### Unmatched Members\n",
    "Will need to audit unmatched member URIs. Thought I had fixed them already.\n"
   ]
  },
  {
   "cell_type": "code",
   "execution_count": 36,
   "metadata": {
    "collapsed": false
   },
   "outputs": [],
   "source": [
    "with open(\"../data/members.json\", \"r\") as f:\n",
    "    memberLU = {m['pId']: m['eId'] for m in json.load(f)}"
   ]
  },
  {
   "cell_type": "code",
   "execution_count": 82,
   "metadata": {
    "collapsed": false
   },
   "outputs": [],
   "source": [
    "def assert_URI_has_right_number_of_elements(uri, right_len):\n",
    "    uri_len = len(uri.split(\"/\"))\n",
    "    try:\n",
    "        assert uri_len == right_len\n",
    "    except AssertionError as e:\n",
    "        e.args += (\"URI: {0} Incorrect length. Should have {1} elements but it has {2}\".format(uri, right_len, uri_len),)\n",
    "        raise\n",
    "\n",
    "#Michael Kitt the latter has a pId of MichaelPKitt\n",
    "unmatched = root.xpath(\".//akn:TLCPerson[contains(@href, 'unmatched')]\", namespaces=AKN)\n",
    "for unm in unmatched:\n",
    "    unm.attrib['href'] = unm.attrib['href'].replace(\"/member/unmatchedMember\", memberLU['MichaelPKitt'])\n",
    "    unm.attrib['showAs'] = \"Mr. Michael P. Kitt\"\n",
    "    print(unm.attrib)\n",
    "    assert_URI_has_right_number_of_elements(unm.attrib['href'], 7)\n",
    "\n",
    "for person in root.xpath(\".//akn:TLCPerson\", namespaces=AKN):\n",
    "    \n",
    "    assert_URI_has_right_number_of_elements(person.attrib['href'], 7)"
   ]
  },
  {
   "cell_type": "markdown",
   "metadata": {},
   "source": [
    "### Converting to RDF\n",
    "\n",
    "When converting to RDF, FRBR elements map to their RDA equivalents. I'm mapping only the FRBRuri elements for now. \n",
    "\n",
    "ToDo: Extend ontology to cover both contributors as those listed as TLCPerson as well as speakers as those identified in speech nodes."
   ]
  },
  {
   "cell_type": "code",
   "execution_count": 119,
   "metadata": {
    "collapsed": true
   },
   "outputs": [],
   "source": [
    "g = Graph()"
   ]
  },
  {
   "cell_type": "code",
   "execution_count": 120,
   "metadata": {
    "collapsed": false
   },
   "outputs": [],
   "source": [
    "OIR = Namespace(\"http://oireachtas.ie/ontology#\")\n",
    "RDA = Namespace(\"http://www.rdaregistry.info/Elements/c/#\")\n",
    "METALEX = Namespace(\"http://www.metalex.eu/metalex/2008-05-02#\")"
   ]
  },
  {
   "cell_type": "code",
   "execution_count": 121,
   "metadata": {
    "collapsed": true
   },
   "outputs": [],
   "source": [
    "workURI = baseURI+root.xpath(\".//akn:FRBRWork/akn:FRBRuri/@value\", \n",
    "                                  namespaces=AKN)[0]\n",
    "work = URIRef(workURI)"
   ]
  },
  {
   "cell_type": "code",
   "execution_count": 116,
   "metadata": {
    "collapsed": false
   },
   "outputs": [],
   "source": [
    "# C10001 is RDA:Work\n",
    "g.add(( work, \n",
    "       RDF.type, \n",
    "       RDA.C10001))\n",
    "# C10006 is RDA:Expression\n",
    "g.add(( URIRef(baseURI+root.xpath(\".//akn:FRBRExpression/akn:FRBRuri/@value\", \n",
    "                                  namespaces=AKN)[0]), \n",
    "       RDF.type, \n",
    "       RDA.C10006))\n",
    "# C10007 is RDA:Manifestation\n",
    "g.add(( URIRef(baseURI+root.xpath(\".//akn:FRBRManifestation/akn:FRBRuri/@value\", \n",
    "                                  namespaces=AKN)[0]), \n",
    "       RDF.type, \n",
    "       RDA.C10007))\n",
    "g.add(( work, \n",
    "       RDF.type, \n",
    "       OIR.DebateRecord))"
   ]
  },
  {
   "cell_type": "markdown",
   "metadata": {},
   "source": [
    "### Debate sections\n",
    "\n",
    "The individual debates in OIR:Debate are contained in a sequence of OIR:DebateSection instances, which may in turn contain further OIR:DebateSection instances.\n",
    "\n",
    "Each DebateSection has a property ``OIR:debateSectionOf``, with its parent as object and an inverse property ``OIR:debateSection`` between parent and child DebateSection.\n",
    "\n",
    "The first DebateSection in a sequence is denoted with the property ``OIR:firstDebateSectionOf`` of its parent instance(either type ``OIR:Debate`` or ``OIR:DebateSection``). They also have an inverse property, ``OIR:firstDebateSection``. \n",
    "\n",
    "Each DebateSection except the last has the property ``OIR:nextDebateSection``, taking as its object the succeeding DebateSection. \n",
    "\n",
    "Each DebateSection after the first has a property ``OIR:nextDebateSectionOf`` taking as its object the preceeding OIR:DebateSection."
   ]
  },
  {
   "cell_type": "code",
   "execution_count": 162,
   "metadata": {
    "collapsed": false
   },
   "outputs": [],
   "source": [
    "g = Graph()\n",
    "def seq_dbs_uri(dbsects, i, dbs_uri, rel):\n",
    "    other_dbs_uri = workURI+\"/\"+dbsects[i].attrib['eId']\n",
    "    relation = \"nextDebateSection\"+rel\n",
    "    g.add(( URIRef(dbs_uri), OIR[relation], URIRef(other_dbs_uri) ))\n",
    "\n",
    "def child_dbs_uri(parent_uri, dbs_uri, relation):\n",
    "    g.add(( URIRef(parent_uri), OIR[relation], URIRef(dbs_uri)))\n",
    "    g.add(( URIRef(dbs_uri), OIR[relation+\"Of\"], URIRef(parent_uri)))\n",
    "\n",
    "def debate_type(dbs):\n",
    "    g.add(( URIRef(dbs_uri), RDF.type, OIR.DebateSection ))\n",
    "    name = dbs.attrib['name']\n",
    "    name = name+\"Debate\" if name != \"debate\" else name\n",
    "    g.add(( URIRef(dbs_uri), OIR.debateType, OIR[name.title()]))\n",
    "    \n",
    "dbsects = root.xpath(\".//akn:debateBody/akn:debateSection\", namespaces=AKN)\n",
    "\n",
    "for i, dbs in enumerate(dbsects):    \n",
    "    dbs_uri = workURI+\"/\"+dbs.attrib['eId']\n",
    "    debate_type(dbs)\n",
    "    child_dbs_uri(workURI, dbs_uri, \"debateSection\" )\n",
    "    if i == 0:\n",
    "        child_dbs_uri(workURI, dbs_uri, \"firstDebateSection\" )\n",
    "    else:\n",
    "        seq_dbs_uri(dbsects, i-1, dbs_uri, \"Of\")\n",
    "    if i != len(dbsects)-1:\n",
    "        seq_dbs_uri(dbsects, i+1, dbs_uri, \"\")\n",
    "    subdbsects = dbs.xpath(\"./akn:debateSection[./akn:heading]\", namespaces=AKN)\n",
    "    for n, subdbs in enumerate(subdbsects):\n",
    "        subdbs_uri = workURI+\"/\"+subdbs.attrib['eId']\n",
    "        debate_type(subdbs)\n",
    "        child_dbs_uri(dbs_uri, dbs_uri, \"debateSection\" )\n",
    "        if n == 0:\n",
    "            child_dbs_uri(dbs_uri, subdbs_uri, \"firstDebateSection\")\n",
    "        else:\n",
    "            seq_dbs_uri(subdbsects, n-1, subdbs_uri, \"Of\")\n",
    "        if n != len(subdbsects)-1:\n",
    "            seq_dbs_uri(subdbsects, n+1, subdbs_uri, \"\")"
   ]
  },
  {
   "cell_type": "markdown",
   "metadata": {},
   "source": [
    "### Speeches and questions\n",
    "\n",
    "Questions are addressed to a function of the relevant department rather than a Minister, should update accordingly."
   ]
  },
  {
   "cell_type": "code",
   "execution_count": 142,
   "metadata": {
    "collapsed": false
   },
   "outputs": [
    {
     "data": {
      "text/plain": [
       "'#Minister_for_Arts'"
      ]
     },
     "execution_count": 142,
     "metadata": {},
     "output_type": "execute_result"
    }
   ],
   "source": [
    "[q.attrib['to'] for q in root.findall(\".//{*}question\")][0]"
   ]
  },
  {
   "cell_type": "markdown",
   "metadata": {},
   "source": [
    "Leaders Questions has name attribute \"questions\" when it's really just a debate. The ``questions`` attribute should only refer to numbered/formal questions (this has implications for early years when questions weren't numbered.) It may not matter so much though when written answers are broken out."
   ]
  },
  {
   "cell_type": "code",
   "execution_count": 160,
   "metadata": {
    "collapsed": false
   },
   "outputs": [
    {
     "data": {
      "text/plain": [
       "b'<question xmlns=\"http://docs.oasis-open.org/legaldocml/ns/akn/3.0/CSD13\" xmlns:xsi=\"http://www.w3.org/2001/XMLSchema-instance\" by=\"#SeanOFearghaillFF\" to=\"#Minister_for_Arts\" eId=\"pq_1\">\\n                        <p eId=\"para_1\">1<b>Deputy Se&#225;n &#211; Feargha&#237;l</b> asked the <b>Minister for Arts, Heritage and the Gaeltacht</b> the funding being provided for the Heritage Council in 2016; and if she will make a statement on the matter. [39716/15]</p>\\n                    </question>\\n                    '"
      ]
     },
     "execution_count": 160,
     "metadata": {},
     "output_type": "execute_result"
    }
   ],
   "source": [
    "questions = root.xpath(\".//akn:debateSection[./akn:question]/akn:question\", namespaces=AKN)\n",
    "for pq in questions:\n",
    "    pq_uri = workURI+\"/\"+pq.attrib['eId']\n",
    "    g.add(( URIRef(pq_uri), rdf.type,  ))\n",
    "etree.tostring(questions[0])"
   ]
  },
  {
   "cell_type": "markdown",
   "metadata": {
    "collapsed": false
   },
   "source": [
    "### Member roles in debates\n",
    "\n",
    "ToDo: these should be object properties, not classes.\n",
    "\n",
    "Members are participants, OIR:debateParticipantOf in debate if they are recorded as speaking, voting or (in the case of a committee) attending. Members who are participants are linked to specific speech of voting instances by the object categories of OIR:speakerOf, OIR:voterOf or OIR:attendeeOf. A voter will also be one of OIR:taVoter, OIR:nilVoter or OIR:staonVoter"
   ]
  },
  {
   "cell_type": "code",
   "execution_count": 98,
   "metadata": {
    "collapsed": false
   },
   "outputs": [],
   "source": [
    "for member in root.xpath(\".//akn:TLCPerson/@href\", namespaces=AKN):\n",
    "    memberURI = URIRef(baseURI+member)\n",
    "    g.add(( work, METALEX.participant, memberURI ))\n",
    "    g.add(( memberURI, METALEX.participantOf, work ))"
   ]
  },
  {
   "cell_type": "code",
   "execution_count": 136,
   "metadata": {
    "collapsed": false
   },
   "outputs": [
    {
     "data": {
      "text/plain": [
       "[<Element {http://docs.oasis-open.org/legaldocml/ns/akn/3.0/CSD13}question at 0x7f4e3c10c208>,\n",
       " <Element {http://docs.oasis-open.org/legaldocml/ns/akn/3.0/CSD13}question at 0x7f4e3c10c988>,\n",
       " <Element {http://docs.oasis-open.org/legaldocml/ns/akn/3.0/CSD13}question at 0x7f4e3c10c688>,\n",
       " <Element {http://docs.oasis-open.org/legaldocml/ns/akn/3.0/CSD13}question at 0x7f4e3c10c108>,\n",
       " <Element {http://docs.oasis-open.org/legaldocml/ns/akn/3.0/CSD13}question at 0x7f4e3c10c308>,\n",
       " <Element {http://docs.oasis-open.org/legaldocml/ns/akn/3.0/CSD13}question at 0x7f4e3c10c508>,\n",
       " <Element {http://docs.oasis-open.org/legaldocml/ns/akn/3.0/CSD13}question at 0x7f4e3c10ce08>,\n",
       " <Element {http://docs.oasis-open.org/legaldocml/ns/akn/3.0/CSD13}question at 0x7f4e3c10c648>,\n",
       " <Element {http://docs.oasis-open.org/legaldocml/ns/akn/3.0/CSD13}question at 0x7f4e3c10cc88>,\n",
       " <Element {http://docs.oasis-open.org/legaldocml/ns/akn/3.0/CSD13}question at 0x7f4e3c10c548>]"
      ]
     },
     "execution_count": 136,
     "metadata": {},
     "output_type": "execute_result"
    }
   ],
   "source": [
    "root.findall(\".//{*}question\")"
   ]
  },
  {
   "cell_type": "code",
   "execution_count": 96,
   "metadata": {
    "collapsed": false
   },
   "outputs": [],
   "source": [
    "for dbs in root.xpath(\".//akn:debateSection[./akn:speech]\", namespaces=AKN):\n",
    "    \n",
    "    spkrs = set(dbs.xpath(\".//akn:speech/@by\", namespaces=AKN))\n",
    "    for spkr in spkrs: \n",
    "        href = root.xpath(\".//akn:TLCPerson[@eId='{}']/@href\".format(spkr[1:]), namespaces=AKN)\n",
    "        if len(href) != 1:\n",
    "            pass\n",
    "        else:\n",
    "            dbsURI = URIRef(workURI+\"/\"+dbs.attrib['eId'])\n",
    "            spkrURI = URIRef(baseURI+href[0])\n",
    "            g.add(( spkrURI, OIR.speakerOf, dbsURI))\n",
    "            g.add(( dbsURI, OIR.speaker, spkrURI ))\n",
    "            "
   ]
  },
  {
   "cell_type": "code",
   "execution_count": 108,
   "metadata": {
    "collapsed": false
   },
   "outputs": [],
   "source": [
    "for dbs in root.xpath(\".//akn:debateSection[@name='ta']\", namespaces=AKN):\n",
    "    voteURI = URIRef(workURI+\"/\"+dbs.getparent().attrib['eId'])\n",
    "    voters = [p[1:] for p in dbs.xpath(\".//akn:person/@refersTo\", namespaces=AKN)]\n",
    "    for voter in voters:\n",
    "        href = root.xpath(\".//akn:TLCPerson[@eId='{}']/@href\".format(voter), namespaces=AKN)\n",
    "        voterURI = URIRef(baseURI+href[0])\n",
    "        g.add(( voterURI, OIR.voterOf, voteURI))\n",
    "        g.add(( voteURI, OIR.voter, voterURI ))"
   ]
  },
  {
   "cell_type": "code",
   "execution_count": 65,
   "metadata": {
    "collapsed": false
   },
   "outputs": [],
   "source": [
    "href = '/ie/oireachtas/member/Michael-P-Kitt.D.1975-03-04/dail/31'\n",
    "right_len = 7\n",
    "uri_len = len(href.split(\"/\"))\n",
    "try:\n",
    "    assert uri_len == right_len\n",
    "except AssertionError as e:\n",
    "    e.args += (\"URI: {0} Incorrect length. Should have {1} elements but it has {2}\".format(href, right_len, uri_len),)\n",
    "    raise"
   ]
  },
  {
   "cell_type": "code",
   "execution_count": 134,
   "metadata": {
    "collapsed": false
   },
   "outputs": [
    {
     "name": "stdout",
     "output_type": "stream",
     "text": [
      "dbsect_3 debateType ontology#Questions\n",
      "dbsect_82 debateType ontology#Debate\n",
      "dbsect_83 debateType ontology#Debate\n",
      "dbsect_2 debateType ontology#Questions\n",
      "dbsect_32 debateType ontology#Debate\n",
      "dbsect_31 debateType ontology#Debate\n",
      "dbsect_29 debateType ontology#Questions\n",
      "dbsect_30 debateType ontology#Debate\n",
      "dbsect_16 debateType ontology#Debate\n",
      "dbsect_3 debateType ontology#Question\n",
      "dbsect_9 debateType ontology#Question\n",
      "dbsect_15 debateType ontology#Debate\n",
      "dbsect_33 debateType ontology#Debate\n",
      "dbsect_9 debateType ontology#Questions\n",
      "dbsect_1 debateType ontology#Prelude\n"
     ]
    }
   ],
   "source": [
    "for s, p, o in g:\n",
    "    if p.endswith(\"Type\"):\n",
    "        print(s.split(\"/\")[-1], p.split(\"#\")[-1], o.split(\"/\")[-1])"
   ]
  },
  {
   "cell_type": "code",
   "execution_count": 163,
   "metadata": {
    "collapsed": false
   },
   "outputs": [
    {
     "name": "stdout",
     "output_type": "stream",
     "text": [
      "dbsect_30 type ontology#DebateSection\n",
      "dbsect_32 type ontology#DebateSection\n",
      "dbsect_82 type ontology#DebateSection\n",
      "dbsect_9 type ontology#DebateSection\n",
      "dbsect_16 type ontology#DebateSection\n",
      "dbsect_33 type ontology#DebateSection\n",
      "dbsect_29 type ontology#DebateSection\n",
      "dbsect_15 type ontology#DebateSection\n",
      "dbsect_83 type ontology#DebateSection\n",
      "dbsect_31 type ontology#DebateSection\n",
      "dbsect_1 type ontology#DebateSection\n",
      "dbsect_3 type ontology#DebateSection\n",
      "dbsect_2 type ontology#DebateSection\n"
     ]
    }
   ],
   "source": [
    "for s, p, o in g:\n",
    "    if p.endswith(\"type\"):\n",
    "        print(s.split(\"/\")[-1], p.split(\"#\")[-1], o.split(\"/\")[-1])"
   ]
  },
  {
   "cell_type": "code",
   "execution_count": 110,
   "metadata": {
    "collapsed": false
   },
   "outputs": [
    {
     "data": {
      "text/plain": [
       "['dbsect_1',\n",
       " 'dbsect_2',\n",
       " 'dbsect_3',\n",
       " 'dbsect_9',\n",
       " 'dbsect_15',\n",
       " 'dbsect_16',\n",
       " 'dbsect_29',\n",
       " 'dbsect_30',\n",
       " 'dbsect_31',\n",
       " 'dbsect_32',\n",
       " 'dbsect_33',\n",
       " 'dbsect_82',\n",
       " 'dbsect_83']"
      ]
     },
     "execution_count": 110,
     "metadata": {},
     "output_type": "execute_result"
    }
   ],
   "source": [
    "[d.attrib['eId'] for d in root.xpath(\".//akn:debateBody/akn:debateSection\", namespaces=AKN)]"
   ]
  },
  {
   "cell_type": "code",
   "execution_count": 112,
   "metadata": {
    "collapsed": false
   },
   "outputs": [
    {
     "data": {
      "text/plain": [
       "['Ceisteanna - Questions',\n",
       " 'Priority Questions',\n",
       " 'Heritage Council Funding',\n",
       " 'Seirbhísí Eitilte',\n",
       " 'National Monuments',\n",
       " 'Seirbhísí Eitilte',\n",
       " 'National Monuments',\n",
       " 'Other Questions',\n",
       " 'Cultural Policy',\n",
       " 'Commemorative Events',\n",
       " 'Céanna agus Cuanta',\n",
       " 'Pleananna Teanga',\n",
       " 'Deer Culls',\n",
       " 'Message from Select Committee',\n",
       " 'Garda Síochána (Policing Authority and Miscellaneous Provisions) Bill 2015: Report Stage (Resumed)',\n",
       " 'Leaders’ Questions',\n",
       " 'Order of Business',\n",
       " 'Finance Bill 2015: Financial Resolutions',\n",
       " 'Finance Bill 2015: Allocation of Time: Motion',\n",
       " 'Garda Síochána (Policing Authority and Miscellaneous Provisions) Bill 2015: Report Stage (Resumed)',\n",
       " 'Topical Issue Matters',\n",
       " 'Topical Issue Debate',\n",
       " 'Preschool Services',\n",
       " 'Sexual Abuse and Violence',\n",
       " 'Housing Issues',\n",
       " 'Schools Building Projects Applications']"
      ]
     },
     "execution_count": 112,
     "metadata": {},
     "output_type": "execute_result"
    }
   ],
   "source": [
    "root.xpath(\".//akn:debateBody//akn:debateSection/akn:heading/text()\", namespaces=AKN)"
   ]
  },
  {
   "cell_type": "code",
   "execution_count": null,
   "metadata": {
    "collapsed": true
   },
   "outputs": [],
   "source": []
  }
 ],
 "metadata": {
  "kernelspec": {
   "display_name": "Python 3",
   "language": "python",
   "name": "python3"
  },
  "language_info": {
   "codemirror_mode": {
    "name": "ipython",
    "version": 3
   },
   "file_extension": ".py",
   "mimetype": "text/x-python",
   "name": "python",
   "nbconvert_exporter": "python",
   "pygments_lexer": "ipython3",
   "version": "3.5.1+"
  }
 },
 "nbformat": 4,
 "nbformat_minor": 0
}
